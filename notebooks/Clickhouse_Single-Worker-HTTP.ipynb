{
 "cells": [
  {
   "cell_type": "markdown",
   "id": "f9ee8fc1-f92e-4d3b-9896-20110f9f10c3",
   "metadata": {},
   "source": [
    "## Clickhouse-based Index\n",
    "\n",
    "Good for aggregations, maybe less so for large search."
   ]
  },
  {
   "cell_type": "code",
   "execution_count": 1,
   "id": "61da2164-6198-4ea5-8234-7de1501357e5",
   "metadata": {},
   "outputs": [
    {
     "name": "stdout",
     "output_type": "stream",
     "text": [
      "Requirement already satisfied: clickhouse-driver[lz4] in /home/pq/UTK/NSDF/NSDF_Object-Catalog_Paper/nsdf-data-catalog/venv/lib/python3.9/site-packages (0.2.4)\n",
      "Requirement already satisfied: pytz in /home/pq/UTK/NSDF/NSDF_Object-Catalog_Paper/nsdf-data-catalog/venv/lib/python3.9/site-packages (from clickhouse-driver[lz4]) (2022.1)\n",
      "Requirement already satisfied: tzlocal in /home/pq/UTK/NSDF/NSDF_Object-Catalog_Paper/nsdf-data-catalog/venv/lib/python3.9/site-packages (from clickhouse-driver[lz4]) (4.2)\n",
      "Requirement already satisfied: lz4 in /home/pq/UTK/NSDF/NSDF_Object-Catalog_Paper/nsdf-data-catalog/venv/lib/python3.9/site-packages (from clickhouse-driver[lz4]) (4.0.1)\n",
      "Requirement already satisfied: clickhouse-cityhash>=1.0.2.1 in /home/pq/UTK/NSDF/NSDF_Object-Catalog_Paper/nsdf-data-catalog/venv/lib/python3.9/site-packages (from clickhouse-driver[lz4]) (1.0.2.3)\n",
      "Requirement already satisfied: pytz-deprecation-shim in /home/pq/UTK/NSDF/NSDF_Object-Catalog_Paper/nsdf-data-catalog/venv/lib/python3.9/site-packages (from tzlocal->clickhouse-driver[lz4]) (0.1.0.post0)\n",
      "Requirement already satisfied: tzdata in /home/pq/UTK/NSDF/NSDF_Object-Catalog_Paper/nsdf-data-catalog/venv/lib/python3.9/site-packages (from pytz-deprecation-shim->tzlocal->clickhouse-driver[lz4]) (2022.1)\n",
      "\u001b[33mWARNING: You are using pip version 21.0.1; however, version 22.1.2 is available.\n",
      "You should consider upgrading via the '/home/pq/UTK/NSDF/NSDF_Object-Catalog_Paper/nsdf-data-catalog/venv/bin/python3 -m pip install --upgrade pip' command.\u001b[0m\n"
     ]
    }
   ],
   "source": [
    "!pip install clickhouse-driver[lz4]"
   ]
  },
  {
   "cell_type": "markdown",
   "id": "c0de79af-efdf-44cd-8c9f-2e0755ee1cc8",
   "metadata": {},
   "source": [
    "## Connect to Clickhouse"
   ]
  },
  {
   "cell_type": "code",
   "execution_count": 2,
   "id": "e867a4a8-8dda-4134-ba52-4374021d4d82",
   "metadata": {},
   "outputs": [],
   "source": [
    "from clickhouse_driver import Client"
   ]
  },
  {
   "cell_type": "code",
   "execution_count": 3,
   "id": "a7e8e0b4-9314-44c3-a92a-29cf17f97841",
   "metadata": {},
   "outputs": [],
   "source": [
    "client = Client('localhost')"
   ]
  },
  {
   "cell_type": "code",
   "execution_count": 4,
   "id": "6829bb24-2133-4d5e-96ce-fd0c5d0a18e6",
   "metadata": {},
   "outputs": [
    {
     "data": {
      "text/plain": [
       "[(datetime.datetime(2022, 7, 11, 1, 41, 37), '22.1.3.7')]"
      ]
     },
     "execution_count": 4,
     "metadata": {},
     "output_type": "execute_result"
    }
   ],
   "source": [
    "result = client.execute('SELECT now(), version()')\n",
    "result"
   ]
  },
  {
   "cell_type": "code",
   "execution_count": 5,
   "id": "1b4e98f7-71e9-41b4-ba08-398718962e94",
   "metadata": {},
   "outputs": [
    {
     "name": "stdout",
     "output_type": "stream",
     "text": [
      "RESULT: <class 'list'>: [(datetime.datetime(2022, 7, 11, 1, 41, 37), '22.1.3.7')]\n"
     ]
    }
   ],
   "source": [
    "print(\"RESULT: {0}: {1}\".format(type(result), result))"
   ]
  },
  {
   "cell_type": "code",
   "execution_count": 6,
   "id": "01ef1505-363c-4c0a-9769-98cca37885b1",
   "metadata": {},
   "outputs": [
    {
     "data": {
      "text/plain": [
       "[('INFORMATION_SCHEMA',), ('default',), ('information_schema',), ('system',)]"
      ]
     },
     "execution_count": 6,
     "metadata": {},
     "output_type": "execute_result"
    }
   ],
   "source": [
    "client.execute('SHOW DATABASES')"
   ]
  },
  {
   "cell_type": "code",
   "execution_count": 7,
   "id": "2a032ef9-6a5b-4ad2-9cf7-0802c92681cf",
   "metadata": {},
   "outputs": [
    {
     "data": {
      "text/plain": [
       "[('nsdf_catalog_index',)]"
      ]
     },
     "execution_count": 7,
     "metadata": {},
     "output_type": "execute_result"
    }
   ],
   "source": [
    "client.execute('SHOW TABLES')"
   ]
  },
  {
   "cell_type": "code",
   "execution_count": null,
   "id": "a680761b-0fb1-4468-b7b7-1276b8be7a7a",
   "metadata": {},
   "outputs": [],
   "source": []
  },
  {
   "cell_type": "code",
   "execution_count": 8,
   "id": "4a75adbc-00a8-4c3a-9a61-8bdb68fc6a34",
   "metadata": {},
   "outputs": [
    {
     "data": {
      "text/plain": [
       "[('nsdf_catalog_index',)]"
      ]
     },
     "execution_count": 8,
     "metadata": {},
     "output_type": "execute_result"
    }
   ],
   "source": [
    "client.execute('DROP TABLE IF EXISTS nsdf_catalog_index')\n",
    "client.execute(\"\"\"\n",
    "CREATE TABLE nsdf_catalog_index (\n",
    "    id String,\n",
    "    name String,\n",
    "    size Int64,\n",
    "    origin_id String,\n",
    "    origin_uri String,\n",
    "    replicas Array(String),\n",
    "    tags Array(String)\n",
    ") ENGINE = Memory\"\"\")\n",
    "client.execute('SHOW TABLES IN default')"
   ]
  },
  {
   "cell_type": "markdown",
   "id": "65467032-fcde-4d09-b23c-718d1333c1bb",
   "metadata": {},
   "source": [
    "## Prepare some Entries"
   ]
  },
  {
   "cell_type": "code",
   "execution_count": 9,
   "id": "5cd54e19-cd26-4ad2-a72a-00cbcde4c8c9",
   "metadata": {},
   "outputs": [],
   "source": [
    "import uuid"
   ]
  },
  {
   "cell_type": "code",
   "execution_count": 10,
   "id": "c509cfa9-d03c-4ddb-a9e4-37807ff67b75",
   "metadata": {},
   "outputs": [],
   "source": [
    "entries = {}\n",
    "for i in range(0,100):\n",
    "    entry = {\n",
    "        \"id\": str(uuid.uuid4()), \n",
    "        \"name\": f\"Frozen Yogurt ({i})\" ,\n",
    "        \"size\": i,\n",
    "        \"origin_uri\": \"\",\n",
    "        \"origin_id\":\"Kuehlregal\",\n",
    "        \"replicas\": [\"rep1\", \"rep2\"],\n",
    "        \"tags\":[\"abc\",\"def\"]\n",
    "    }\n",
    "    entries[entry['id']] = entry"
   ]
  },
  {
   "cell_type": "code",
   "execution_count": 11,
   "id": "f156a00f-fab7-4741-82ad-244f158fe1c9",
   "metadata": {},
   "outputs": [
    {
     "data": {
      "text/plain": [
       "{'id': 'cf4c1d65-0160-4162-acb4-5ad4753215ba',\n",
       " 'name': 'Frozen Yogurt (99)',\n",
       " 'size': 99,\n",
       " 'origin_uri': '',\n",
       " 'origin_id': 'Kuehlregal',\n",
       " 'replicas': ['rep1', 'rep2'],\n",
       " 'tags': ['abc', 'def']}"
      ]
     },
     "execution_count": 11,
     "metadata": {},
     "output_type": "execute_result"
    }
   ],
   "source": [
    "entry"
   ]
  },
  {
   "cell_type": "code",
   "execution_count": 12,
   "id": "e9fa85c0-9f4a-4451-8b2e-8432082a697d",
   "metadata": {},
   "outputs": [
    {
     "data": {
      "text/plain": [
       "[('id', 'String', '', '', '', '', ''),\n",
       " ('name', 'String', '', '', '', '', ''),\n",
       " ('size', 'Int64', '', '', '', '', ''),\n",
       " ('origin_id', 'String', '', '', '', '', ''),\n",
       " ('origin_uri', 'String', '', '', '', '', ''),\n",
       " ('replicas', 'Array(String)', '', '', '', '', ''),\n",
       " ('tags', 'Array(String)', '', '', '', '', '')]"
      ]
     },
     "execution_count": 12,
     "metadata": {},
     "output_type": "execute_result"
    }
   ],
   "source": [
    "client.execute('DESCRIBE nsdf_catalog_index')"
   ]
  },
  {
   "cell_type": "code",
   "execution_count": 13,
   "id": "7bcc5d8f-80ce-4e9a-9403-8334079e6cc8",
   "metadata": {},
   "outputs": [
    {
     "data": {
      "text/plain": [
       "100"
      ]
     },
     "execution_count": 13,
     "metadata": {},
     "output_type": "execute_result"
    }
   ],
   "source": [
    "client.execute(\n",
    "    'INSERT INTO nsdf_catalog_index (id, name, size, origin_id, origin_uri, replicas, tags) VALUES',\n",
    "    list(entries.values())\n",
    ")"
   ]
  },
  {
   "cell_type": "code",
   "execution_count": null,
   "id": "ed126b75-335e-4287-b31a-683b7acc7679",
   "metadata": {},
   "outputs": [],
   "source": []
  },
  {
   "cell_type": "code",
   "execution_count": 14,
   "id": "5d957480-a654-4ef6-81c2-74ce9bbb3d27",
   "metadata": {},
   "outputs": [
    {
     "data": {
      "text/plain": [
       "[('ccdbcfbb-c47f-4993-a582-49f829d86c80',\n",
       "  'Frozen Yogurt (0)',\n",
       "  0,\n",
       "  'Kuehlregal',\n",
       "  '',\n",
       "  ['rep1', 'rep2'],\n",
       "  ['abc', 'def']),\n",
       " ('9b239a22-5739-4d63-8874-4b0b753e6810',\n",
       "  'Frozen Yogurt (1)',\n",
       "  1,\n",
       "  'Kuehlregal',\n",
       "  '',\n",
       "  ['rep1', 'rep2'],\n",
       "  ['abc', 'def']),\n",
       " ('49893e90-dac1-47a0-b892-f2d1abe8b68d',\n",
       "  'Frozen Yogurt (2)',\n",
       "  2,\n",
       "  'Kuehlregal',\n",
       "  '',\n",
       "  ['rep1', 'rep2'],\n",
       "  ['abc', 'def'])]"
      ]
     },
     "execution_count": 14,
     "metadata": {},
     "output_type": "execute_result"
    }
   ],
   "source": [
    "client.execute('SELECT * FROM nsdf_catalog_index LIMIT 3')"
   ]
  },
  {
   "cell_type": "code",
   "execution_count": null,
   "id": "0fcf3a76-7705-4751-a01c-589148cd91fb",
   "metadata": {},
   "outputs": [],
   "source": []
  },
  {
   "cell_type": "code",
   "execution_count": null,
   "id": "25f57fe9-5cb7-40a6-8666-a9b8f149c028",
   "metadata": {},
   "outputs": [],
   "source": []
  },
  {
   "cell_type": "code",
   "execution_count": null,
   "id": "de9cd1b6-7d7c-47a8-9e20-14d94d1269e5",
   "metadata": {},
   "outputs": [],
   "source": []
  }
 ],
 "metadata": {
  "kernelspec": {
   "display_name": "Python 3 (ipykernel)",
   "language": "python",
   "name": "python3"
  },
  "language_info": {
   "codemirror_mode": {
    "name": "ipython",
    "version": 3
   },
   "file_extension": ".py",
   "mimetype": "text/x-python",
   "name": "python",
   "nbconvert_exporter": "python",
   "pygments_lexer": "ipython3",
   "version": "3.9.13"
  }
 },
 "nbformat": 4,
 "nbformat_minor": 5
}
